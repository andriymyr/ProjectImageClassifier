{
  "nbformat": 4,
  "nbformat_minor": 0,
  "metadata": {
    "colab": {
      "provenance": [],
      "authorship_tag": "ABX9TyNT42Cxd5glUE7uWuiMtJLq",
      "include_colab_link": true
    },
    "kernelspec": {
      "name": "python3",
      "display_name": "Python 3"
    },
    "language_info": {
      "name": "python"
    }
  },
  "cells": [
    {
      "cell_type": "markdown",
      "metadata": {
        "id": "view-in-github",
        "colab_type": "text"
      },
      "source": [
        "<a href=\"https://colab.research.google.com/github/Andrei198203/new3_1_final-project/blob/main/new_3_1.ipynb\" target=\"_parent\"><img src=\"https://colab.research.google.com/assets/colab-badge.svg\" alt=\"Open In Colab\"/></a>"
      ]
    },
    {
      "cell_type": "code",
      "execution_count": null,
      "metadata": {
        "colab": {
          "base_uri": "https://localhost:8080/"
        },
        "id": "4YA-4_nG9SJU",
        "outputId": "9e44d523-235c-47a0-cf17-624015580fb6"
      },
      "outputs": [
        {
          "output_type": "stream",
          "name": "stdout",
          "text": [
            "Requirement already satisfied: tensorflow in /usr/local/lib/python3.10/dist-packages (2.15.0)\n",
            "Requirement already satisfied: absl-py>=1.0.0 in /usr/local/lib/python3.10/dist-packages (from tensorflow) (1.4.0)\n",
            "Requirement already satisfied: astunparse>=1.6.0 in /usr/local/lib/python3.10/dist-packages (from tensorflow) (1.6.3)\n",
            "Requirement already satisfied: flatbuffers>=23.5.26 in /usr/local/lib/python3.10/dist-packages (from tensorflow) (24.3.25)\n",
            "Requirement already satisfied: gast!=0.5.0,!=0.5.1,!=0.5.2,>=0.2.1 in /usr/local/lib/python3.10/dist-packages (from tensorflow) (0.5.4)\n",
            "Requirement already satisfied: google-pasta>=0.1.1 in /usr/local/lib/python3.10/dist-packages (from tensorflow) (0.2.0)\n",
            "Requirement already satisfied: h5py>=2.9.0 in /usr/local/lib/python3.10/dist-packages (from tensorflow) (3.9.0)\n",
            "Requirement already satisfied: libclang>=13.0.0 in /usr/local/lib/python3.10/dist-packages (from tensorflow) (18.1.1)\n",
            "Requirement already satisfied: ml-dtypes~=0.2.0 in /usr/local/lib/python3.10/dist-packages (from tensorflow) (0.2.0)\n",
            "Requirement already satisfied: numpy<2.0.0,>=1.23.5 in /usr/local/lib/python3.10/dist-packages (from tensorflow) (1.25.2)\n",
            "Requirement already satisfied: opt-einsum>=2.3.2 in /usr/local/lib/python3.10/dist-packages (from tensorflow) (3.3.0)\n",
            "Requirement already satisfied: packaging in /usr/local/lib/python3.10/dist-packages (from tensorflow) (24.1)\n",
            "Requirement already satisfied: protobuf!=4.21.0,!=4.21.1,!=4.21.2,!=4.21.3,!=4.21.4,!=4.21.5,<5.0.0dev,>=3.20.3 in /usr/local/lib/python3.10/dist-packages (from tensorflow) (3.20.3)\n",
            "Requirement already satisfied: setuptools in /usr/local/lib/python3.10/dist-packages (from tensorflow) (67.7.2)\n",
            "Requirement already satisfied: six>=1.12.0 in /usr/local/lib/python3.10/dist-packages (from tensorflow) (1.16.0)\n",
            "Requirement already satisfied: termcolor>=1.1.0 in /usr/local/lib/python3.10/dist-packages (from tensorflow) (2.4.0)\n",
            "Requirement already satisfied: typing-extensions>=3.6.6 in /usr/local/lib/python3.10/dist-packages (from tensorflow) (4.12.2)\n",
            "Requirement already satisfied: wrapt<1.15,>=1.11.0 in /usr/local/lib/python3.10/dist-packages (from tensorflow) (1.14.1)\n",
            "Requirement already satisfied: tensorflow-io-gcs-filesystem>=0.23.1 in /usr/local/lib/python3.10/dist-packages (from tensorflow) (0.37.0)\n",
            "Requirement already satisfied: grpcio<2.0,>=1.24.3 in /usr/local/lib/python3.10/dist-packages (from tensorflow) (1.64.1)\n",
            "Requirement already satisfied: tensorboard<2.16,>=2.15 in /usr/local/lib/python3.10/dist-packages (from tensorflow) (2.15.2)\n",
            "Requirement already satisfied: tensorflow-estimator<2.16,>=2.15.0 in /usr/local/lib/python3.10/dist-packages (from tensorflow) (2.15.0)\n",
            "Requirement already satisfied: keras<2.16,>=2.15.0 in /usr/local/lib/python3.10/dist-packages (from tensorflow) (2.15.0)\n",
            "Requirement already satisfied: wheel<1.0,>=0.23.0 in /usr/local/lib/python3.10/dist-packages (from astunparse>=1.6.0->tensorflow) (0.43.0)\n",
            "Requirement already satisfied: google-auth<3,>=1.6.3 in /usr/local/lib/python3.10/dist-packages (from tensorboard<2.16,>=2.15->tensorflow) (2.27.0)\n",
            "Requirement already satisfied: google-auth-oauthlib<2,>=0.5 in /usr/local/lib/python3.10/dist-packages (from tensorboard<2.16,>=2.15->tensorflow) (1.2.0)\n",
            "Requirement already satisfied: markdown>=2.6.8 in /usr/local/lib/python3.10/dist-packages (from tensorboard<2.16,>=2.15->tensorflow) (3.6)\n",
            "Requirement already satisfied: requests<3,>=2.21.0 in /usr/local/lib/python3.10/dist-packages (from tensorboard<2.16,>=2.15->tensorflow) (2.31.0)\n",
            "Requirement already satisfied: tensorboard-data-server<0.8.0,>=0.7.0 in /usr/local/lib/python3.10/dist-packages (from tensorboard<2.16,>=2.15->tensorflow) (0.7.2)\n",
            "Requirement already satisfied: werkzeug>=1.0.1 in /usr/local/lib/python3.10/dist-packages (from tensorboard<2.16,>=2.15->tensorflow) (3.0.3)\n",
            "Requirement already satisfied: cachetools<6.0,>=2.0.0 in /usr/local/lib/python3.10/dist-packages (from google-auth<3,>=1.6.3->tensorboard<2.16,>=2.15->tensorflow) (5.3.3)\n",
            "Requirement already satisfied: pyasn1-modules>=0.2.1 in /usr/local/lib/python3.10/dist-packages (from google-auth<3,>=1.6.3->tensorboard<2.16,>=2.15->tensorflow) (0.4.0)\n",
            "Requirement already satisfied: rsa<5,>=3.1.4 in /usr/local/lib/python3.10/dist-packages (from google-auth<3,>=1.6.3->tensorboard<2.16,>=2.15->tensorflow) (4.9)\n",
            "Requirement already satisfied: requests-oauthlib>=0.7.0 in /usr/local/lib/python3.10/dist-packages (from google-auth-oauthlib<2,>=0.5->tensorboard<2.16,>=2.15->tensorflow) (1.3.1)\n",
            "Requirement already satisfied: charset-normalizer<4,>=2 in /usr/local/lib/python3.10/dist-packages (from requests<3,>=2.21.0->tensorboard<2.16,>=2.15->tensorflow) (3.3.2)\n",
            "Requirement already satisfied: idna<4,>=2.5 in /usr/local/lib/python3.10/dist-packages (from requests<3,>=2.21.0->tensorboard<2.16,>=2.15->tensorflow) (3.7)\n",
            "Requirement already satisfied: urllib3<3,>=1.21.1 in /usr/local/lib/python3.10/dist-packages (from requests<3,>=2.21.0->tensorboard<2.16,>=2.15->tensorflow) (2.0.7)\n",
            "Requirement already satisfied: certifi>=2017.4.17 in /usr/local/lib/python3.10/dist-packages (from requests<3,>=2.21.0->tensorboard<2.16,>=2.15->tensorflow) (2024.6.2)\n",
            "Requirement already satisfied: MarkupSafe>=2.1.1 in /usr/local/lib/python3.10/dist-packages (from werkzeug>=1.0.1->tensorboard<2.16,>=2.15->tensorflow) (2.1.5)\n",
            "Requirement already satisfied: pyasn1<0.7.0,>=0.4.6 in /usr/local/lib/python3.10/dist-packages (from pyasn1-modules>=0.2.1->google-auth<3,>=1.6.3->tensorboard<2.16,>=2.15->tensorflow) (0.6.0)\n",
            "Requirement already satisfied: oauthlib>=3.0.0 in /usr/local/lib/python3.10/dist-packages (from requests-oauthlib>=0.7.0->google-auth-oauthlib<2,>=0.5->tensorboard<2.16,>=2.15->tensorflow) (3.2.2)\n"
          ]
        }
      ],
      "source": [
        "!pip install tensorflow"
      ]
    },
    {
      "cell_type": "code",
      "source": [
        "import pandas as pd\n",
        "from string import punctuation\n",
        "\n",
        "import numpy as np\n",
        "import matplotlib.pyplot as plt\n",
        "import tensorflow as tf\n",
        "from tensorflow import keras\n",
        "from tensorflow.keras.utils import to_categorical\n",
        "from tensorflow.keras.utils import plot_model\n",
        "from keras.optimizers import Adam\n",
        "from keras.datasets import fashion_mnist\n",
        "from keras import models\n",
        "from keras import layers\n",
        "from keras import optimizers\n",
        "from keras import utils\n",
        "from tensorflow.keras.models import Sequential\n",
        "from tensorflow.keras.layers import Dense, Dropout, Flatten\n",
        "from tensorflow.keras.layers import Conv2D, MaxPooling2D, BatchNormalization\n",
        "from tensorflow.keras.optimizers import SGD, Adam\n",
        "from keras.optimizers import Adam\n",
        "from tensorflow.keras.regularizers import l2\n",
        "from tensorflow.keras.utils import to_categorical\n",
        "# from keras.preprocessing  import  image /\n",
        "\n",
        "from tensorflow.keras.preprocessing.image import ImageDataGenerator\n",
        "# import h5py"
      ],
      "metadata": {
        "id": "Vejgswc2UOCS"
      },
      "execution_count": 13,
      "outputs": []
    },
    {
      "cell_type": "code",
      "source": [
        "from tensorflow.keras.datasets import cifar10\n",
        "(x_train, y_train), (x_test, y_test) = cifar10.load_data()"
      ],
      "metadata": {
        "id": "wQ3eeLyTaihC"
      },
      "execution_count": 14,
      "outputs": []
    },
    {
      "cell_type": "code",
      "source": [
        "print('x_train Shape: {}'.format(x_train.shape))\n",
        "print('x_test Shape: {}'.format(x_test.shape))\n",
        "print('y_train Shape: {}'.format(y_train.shape))\n",
        "print('y_test Shape: {}'.format(y_test.shape))"
      ],
      "metadata": {
        "colab": {
          "base_uri": "https://localhost:8080/"
        },
        "id": "1DNnyGPEaYlj",
        "outputId": "fee0175c-f291-41d9-ad3a-645f80e5f762"
      },
      "execution_count": 15,
      "outputs": [
        {
          "output_type": "stream",
          "name": "stdout",
          "text": [
            "x_train Shape: (50000, 32, 32, 3)\n",
            "x_test Shape: (10000, 32, 32, 3)\n",
            "y_train Shape: (50000, 1)\n",
            "y_test Shape: (10000, 1)\n"
          ]
        }
      ]
    },
    {
      "cell_type": "code",
      "source": [
        "num_classes = 10\n",
        "classes = { 0:\"airplane(літак)\",\n",
        "            1: \"automobile(автомобіль)\",\n",
        "            2: \"bird(птах)\",\n",
        "            3: \"cat(кот)\",\n",
        "            4: \"deer(олень)\",\n",
        "            5: \"dog(пес)\",\n",
        "            6: \"frog(жаба)\",\n",
        "            7: \"horse(кінь)\",\n",
        "            8: \"ship(корабель)\",\n",
        "            9: \"truck(вантажівка)\"}"
      ],
      "metadata": {
        "id": "RX65s1bebRIL"
      },
      "execution_count": 16,
      "outputs": []
    },
    {
      "cell_type": "code",
      "source": [
        "# set up image augmentation\n",
        "datagen = ImageDataGenerator(\n",
        "    rotation_range=15,\n",
        "    horizontal_flip=True,\n",
        "    width_shift_range=0.15,\n",
        "    height_shift_range=0.15,\n",
        "    zoom_range=0.3\n",
        "    )\n",
        "datagen.fit(x_train)"
      ],
      "metadata": {
        "id": "ft-Qc4t0an4-"
      },
      "execution_count": 17,
      "outputs": []
    },
    {
      "cell_type": "code",
      "source": [
        "x_train = x_train.astype('float32')\n",
        "x_test = x_test.astype('float32')\n",
        "x_train = np.array(x_train) / 255.0\n",
        "x_test = np.array(x_test) / 255.0\n",
        "\n",
        "# Convert tags to categories\n",
        "\n",
        "\n",
        "y_train = utils.to_categorical(y_train, num_classes)\n",
        "y_test = utils.to_categorical(y_test, num_classes)\n",
        "\n",
        "print(f\"x_train: {x_train.shape}, x_test: {x_test.shape}\\ny_train: {y_train.shape}, y_test: {y_test.shape}\")"
      ],
      "metadata": {
        "colab": {
          "base_uri": "https://localhost:8080/"
        },
        "id": "jIMCtIPxa2cT",
        "outputId": "fcd6c541-a4c5-4b87-aaa3-931f9936f7cd"
      },
      "execution_count": 18,
      "outputs": [
        {
          "output_type": "stream",
          "name": "stdout",
          "text": [
            "x_train: (50000, 32, 32, 3), x_test: (10000, 32, 32, 3)\n",
            "y_train: (50000, 10), y_test: (10000, 10)\n"
          ]
        }
      ]
    },
    {
      "cell_type": "code",
      "source": [
        "reg=None\n",
        "reg2=None\n",
        "num_filters=32\n",
        "ac='relu'\n",
        "# adm=Adam(lr=0.001,decay=0, beta_1=0.9, beta_2=0.999, epsilon=1e-08)\n",
        "# opt=adm\n",
        "drop_dense=0.5\n",
        "drop_conv=0\n",
        "input_shape = (32,32, 3)\n",
        "\n",
        "model = Sequential(name='cifar10')\n",
        "\n",
        "# Слой 2D-свертки (например, пространственная свертка изображений)\n",
        "model.add(Conv2D(num_filters, (3, 3), activation=ac, kernel_regularizer=reg,  input_shape=(32,32, 3), padding='same'))\n",
        "model.add(BatchNormalization(axis=-1))\n",
        "model.add(Conv2D(num_filters, (3, 3), activation=ac,kernel_regularizer=reg, padding='same'))\n",
        "model.add(BatchNormalization(axis=-1))\n",
        "model.add(MaxPooling2D(pool_size=(2, 2)))   # reduces to 16x16x3xnum_filters\n",
        "model.add(Dropout(drop_conv))\n",
        "\n",
        "model.add(Conv2D(2*num_filters, (3, 3), activation=ac, kernel_regularizer=reg, padding='same'))\n",
        "model.add(BatchNormalization(axis=-1))\n",
        "model.add(Conv2D(2*num_filters, (3, 3), activation=ac, kernel_regularizer=reg, padding='same'))\n",
        "model.add(BatchNormalization(axis=-1))\n",
        "model.add(MaxPooling2D(pool_size=(2, 2)))   # reduces to 8x8x3x(2*num_filters)\n",
        "model.add(Dropout(drop_conv))\n",
        "\n",
        "model.add(Conv2D(4*num_filters, (3, 3), activation=ac,kernel_regularizer=reg, padding='same'))\n",
        "model.add(BatchNormalization(axis=-1))\n",
        "model.add(Conv2D(4*num_filters, (3, 3), activation=ac,kernel_regularizer=reg, padding='same'))\n",
        "model.add(BatchNormalization(axis=-1))\n",
        "model.add(MaxPooling2D(pool_size=(2, 2)))   # reduces to 4x4x3x(4*num_filters)\n",
        "model.add(Dropout(drop_conv))\n",
        "\n",
        "model.add(Flatten())\n",
        "model.add(Dense(2048, activation=ac, kernel_regularizer=reg2, name='hidden_1'))\n",
        "model.add(BatchNormalization())\n",
        "model.add(Dropout(drop_dense))\n",
        "model.add(Dense(2048, activation=ac, kernel_regularizer=reg2, name='hidden_2'))\n",
        "model.add(BatchNormalization())\n",
        "model.add(Dropout(drop_dense))\n",
        "model.add(Dense(1024, activation=ac, kernel_regularizer=reg2, name='hidden_4'))\n",
        "model.add(BatchNormalization())\n",
        "model.add(Dropout(drop_dense))\n",
        "model.add(Dense(512, activation=ac, kernel_regularizer=reg2, name='hidden_5'))\n",
        "model.add(BatchNormalization())\n",
        "model.add(Dropout(drop_dense))\n",
        "model.add(Dense(num_classes, activation='softmax', name='output'))"
      ],
      "metadata": {
        "id": "pew8i7Ztbjlw"
      },
      "execution_count": 19,
      "outputs": []
    },
    {
      "cell_type": "code",
      "source": [
        "model.summary()"
      ],
      "metadata": {
        "colab": {
          "base_uri": "https://localhost:8080/"
        },
        "id": "aFdMRj92b2rh",
        "outputId": "aa43cd57-5f3c-4fa1-a206-958026125db0"
      },
      "execution_count": 20,
      "outputs": [
        {
          "output_type": "stream",
          "name": "stdout",
          "text": [
            "Model: \"cifar10\"\n",
            "_________________________________________________________________\n",
            " Layer (type)                Output Shape              Param #   \n",
            "=================================================================\n",
            " conv2d_6 (Conv2D)           (None, 32, 32, 32)        896       \n",
            "                                                                 \n",
            " batch_normalization_10 (Ba  (None, 32, 32, 32)        128       \n",
            " tchNormalization)                                               \n",
            "                                                                 \n",
            " conv2d_7 (Conv2D)           (None, 32, 32, 32)        9248      \n",
            "                                                                 \n",
            " batch_normalization_11 (Ba  (None, 32, 32, 32)        128       \n",
            " tchNormalization)                                               \n",
            "                                                                 \n",
            " max_pooling2d_3 (MaxPoolin  (None, 16, 16, 32)        0         \n",
            " g2D)                                                            \n",
            "                                                                 \n",
            " dropout_7 (Dropout)         (None, 16, 16, 32)        0         \n",
            "                                                                 \n",
            " conv2d_8 (Conv2D)           (None, 16, 16, 64)        18496     \n",
            "                                                                 \n",
            " batch_normalization_12 (Ba  (None, 16, 16, 64)        256       \n",
            " tchNormalization)                                               \n",
            "                                                                 \n",
            " conv2d_9 (Conv2D)           (None, 16, 16, 64)        36928     \n",
            "                                                                 \n",
            " batch_normalization_13 (Ba  (None, 16, 16, 64)        256       \n",
            " tchNormalization)                                               \n",
            "                                                                 \n",
            " max_pooling2d_4 (MaxPoolin  (None, 8, 8, 64)          0         \n",
            " g2D)                                                            \n",
            "                                                                 \n",
            " dropout_8 (Dropout)         (None, 8, 8, 64)          0         \n",
            "                                                                 \n",
            " conv2d_10 (Conv2D)          (None, 8, 8, 128)         73856     \n",
            "                                                                 \n",
            " batch_normalization_14 (Ba  (None, 8, 8, 128)         512       \n",
            " tchNormalization)                                               \n",
            "                                                                 \n",
            " conv2d_11 (Conv2D)          (None, 8, 8, 128)         147584    \n",
            "                                                                 \n",
            " batch_normalization_15 (Ba  (None, 8, 8, 128)         512       \n",
            " tchNormalization)                                               \n",
            "                                                                 \n",
            " max_pooling2d_5 (MaxPoolin  (None, 4, 4, 128)         0         \n",
            " g2D)                                                            \n",
            "                                                                 \n",
            " dropout_9 (Dropout)         (None, 4, 4, 128)         0         \n",
            "                                                                 \n",
            " flatten_1 (Flatten)         (None, 2048)              0         \n",
            "                                                                 \n",
            " hidden_1 (Dense)            (None, 2048)              4196352   \n",
            "                                                                 \n",
            " batch_normalization_16 (Ba  (None, 2048)              8192      \n",
            " tchNormalization)                                               \n",
            "                                                                 \n",
            " dropout_10 (Dropout)        (None, 2048)              0         \n",
            "                                                                 \n",
            " hidden_2 (Dense)            (None, 2048)              4196352   \n",
            "                                                                 \n",
            " batch_normalization_17 (Ba  (None, 2048)              8192      \n",
            " tchNormalization)                                               \n",
            "                                                                 \n",
            " dropout_11 (Dropout)        (None, 2048)              0         \n",
            "                                                                 \n",
            " hidden_4 (Dense)            (None, 1024)              2098176   \n",
            "                                                                 \n",
            " batch_normalization_18 (Ba  (None, 1024)              4096      \n",
            " tchNormalization)                                               \n",
            "                                                                 \n",
            " dropout_12 (Dropout)        (None, 1024)              0         \n",
            "                                                                 \n",
            " hidden_5 (Dense)            (None, 512)               524800    \n",
            "                                                                 \n",
            " batch_normalization_19 (Ba  (None, 512)               2048      \n",
            " tchNormalization)                                               \n",
            "                                                                 \n",
            " dropout_13 (Dropout)        (None, 512)               0         \n",
            "                                                                 \n",
            " output (Dense)              (None, 10)                5130      \n",
            "                                                                 \n",
            "=================================================================\n",
            "Total params: 11332138 (43.23 MB)\n",
            "Trainable params: 11319978 (43.18 MB)\n",
            "Non-trainable params: 12160 (47.50 KB)\n",
            "_________________________________________________________________\n"
          ]
        }
      ]
    },
    {
      "cell_type": "code",
      "source": [
        "# Компиляция модели\n",
        "model.compile(\n",
        "    loss='categorical_crossentropy',\n",
        "    optimizer=Adam(learning_rate=0.001),\n",
        "    metrics=['accuracy'],\n",
        "    run_eagerly=True\n",
        ")"
      ],
      "metadata": {
        "id": "hEDR4G4pbvB4"
      },
      "execution_count": 21,
      "outputs": []
    },
    {
      "cell_type": "code",
      "source": [
        "history=model.fit( x_train, y_train,\n",
        "                  batch_size=256,\n",
        "                  steps_per_epoch = len(x_train) / 256,\n",
        "                  epochs=20,\n",
        "                  validation_data=(x_test, y_test) )"
      ],
      "metadata": {
        "colab": {
          "base_uri": "https://localhost:8080/"
        },
        "id": "QRIyjE7ZcMuy",
        "outputId": "f176b97f-b58b-4440-f1af-ab922da0fc80"
      },
      "execution_count": null,
      "outputs": [
        {
          "output_type": "stream",
          "name": "stdout",
          "text": [
            "Epoch 1/20\n",
            "195/195 [==============================] - 675s 3s/step - loss: 1.8634 - accuracy: 0.4014 - val_loss: 4.6703 - val_accuracy: 0.1571\n",
            "Epoch 2/20\n",
            "195/195 [==============================] - 673s 3s/step - loss: 1.1612 - accuracy: 0.5924 - val_loss: 2.3225 - val_accuracy: 0.2994\n",
            "Epoch 3/20\n",
            "195/195 [==============================] - 661s 3s/step - loss: 0.9008 - accuracy: 0.6815 - val_loss: 0.9790 - val_accuracy: 0.6571\n",
            "Epoch 4/20\n",
            "195/195 [==============================] - 650s 3s/step - loss: 0.7413 - accuracy: 0.7427 - val_loss: 0.8701 - val_accuracy: 0.7061\n",
            "Epoch 5/20\n",
            "195/195 [==============================] - 651s 3s/step - loss: 0.6294 - accuracy: 0.7817 - val_loss: 0.8061 - val_accuracy: 0.7322\n",
            "Epoch 6/20\n",
            "195/195 [==============================] - 662s 3s/step - loss: 0.5500 - accuracy: 0.8091 - val_loss: 0.9928 - val_accuracy: 0.7156\n",
            "Epoch 7/20\n",
            "195/195 [==============================] - 654s 3s/step - loss: 0.4716 - accuracy: 0.8369 - val_loss: 0.8375 - val_accuracy: 0.7360\n",
            "Epoch 8/20\n",
            "195/195 [==============================] - 667s 3s/step - loss: 0.4084 - accuracy: 0.8598 - val_loss: 0.7161 - val_accuracy: 0.7726\n",
            "Epoch 9/20\n",
            "195/195 [==============================] - 675s 3s/step - loss: 0.3613 - accuracy: 0.8760 - val_loss: 0.8618 - val_accuracy: 0.7387\n",
            "Epoch 10/20\n",
            "195/195 [==============================] - 650s 3s/step - loss: 0.3144 - accuracy: 0.8931 - val_loss: 0.8503 - val_accuracy: 0.7619\n",
            "Epoch 11/20\n",
            "195/195 [==============================] - 657s 3s/step - loss: 0.2721 - accuracy: 0.9082 - val_loss: 0.8089 - val_accuracy: 0.7802\n",
            "Epoch 12/20\n",
            "195/195 [==============================] - 646s 3s/step - loss: 0.2231 - accuracy: 0.9252 - val_loss: 0.8063 - val_accuracy: 0.7802\n",
            "Epoch 13/20\n",
            "195/195 [==============================] - 637s 3s/step - loss: 0.2078 - accuracy: 0.9299 - val_loss: 0.8845 - val_accuracy: 0.7742\n",
            "Epoch 14/20\n",
            "195/195 [==============================] - 684s 4s/step - loss: 0.1805 - accuracy: 0.9391 - val_loss: 0.8627 - val_accuracy: 0.7886\n",
            "Epoch 15/20\n",
            "195/195 [==============================] - 647s 3s/step - loss: 0.1570 - accuracy: 0.9460 - val_loss: 0.9774 - val_accuracy: 0.7667\n",
            "Epoch 16/20\n",
            "195/195 [==============================] - 647s 3s/step - loss: 0.1474 - accuracy: 0.9501 - val_loss: 0.9519 - val_accuracy: 0.7693\n",
            "Epoch 17/20\n",
            "195/195 [==============================] - 655s 3s/step - loss: 0.1279 - accuracy: 0.9567 - val_loss: 0.8643 - val_accuracy: 0.7864\n",
            "Epoch 18/20\n",
            "195/195 [==============================] - 659s 3s/step - loss: 0.1182 - accuracy: 0.9595 - val_loss: 0.9347 - val_accuracy: 0.7871\n",
            "Epoch 19/20\n",
            "195/195 [==============================] - 656s 3s/step - loss: 0.1095 - accuracy: 0.9626 - val_loss: 0.8982 - val_accuracy: 0.7941\n",
            "Epoch 20/20\n",
            "172/195 [=========================>....] - ETA: 1:13 - loss: 0.1016 - accuracy: 0.9653"
          ]
        }
      ]
    },
    {
      "cell_type": "code",
      "source": [
        "result_test = model.evaluate(x_test, y_test)\n",
        "result_train = model.evaluate(x_train, y_train)\n",
        "print(\"Percentage of test data accuracy: \", round(result_test[1] * 100, 2))\n",
        "print(\"Percentage of training data accuracy: \", round(result_train[1] * 100, 2))"
      ],
      "metadata": {
        "id": "MGtPLWlrL9_3",
        "colab": {
          "base_uri": "https://localhost:8080/"
        },
        "outputId": "46a61aac-9b79-4b8e-a3e8-f094ba5dc35e"
      },
      "execution_count": 22,
      "outputs": [
        {
          "output_type": "stream",
          "name": "stdout",
          "text": [
            "313/313 [==============================] - 44s 141ms/step - loss: 2.3023 - accuracy: 0.1218\n",
            "1563/1563 [==============================] - 224s 143ms/step - loss: 2.3023 - accuracy: 0.1245\n",
            "Percentage of test data accuracy:  12.18\n",
            "Percentage of training data accuracy:  12.45\n"
          ]
        }
      ]
    },
    {
      "cell_type": "code",
      "source": [
        "epochs = range(1, len(history.history[\"accuracy\"]) + 1)\n",
        "\n",
        "plt.figure(figsize=(8, 4))\n",
        "plt.plot(epochs, history.history[\"accuracy\"],   label=\"Training accuracy\")\n",
        "plt.plot(epochs, history.history[\"val_accuracy\"], label=\"Validation accuracy\")\n",
        "plt.title(\"Training and validation accuracies\")\n",
        "plt.legend()\n",
        "plt.figure(figsize=(8, 4))\n",
        "plt.plot(epochs, history.history[\"loss\"],  label=\"Training loss\")\n",
        "plt.plot(epochs, history.history[\"val_loss\"], label=\"Validation loss\")\n",
        "plt.title(\"Training and validation losses\")\n",
        "plt.legend()\n",
        "plt.show()"
      ],
      "metadata": {
        "id": "5dCdMjMeMKli",
        "colab": {
          "base_uri": "https://localhost:8080/",
          "height": 211
        },
        "outputId": "4d191220-88c2-43b2-8100-86076e67e8a8"
      },
      "execution_count": 23,
      "outputs": [
        {
          "output_type": "error",
          "ename": "NameError",
          "evalue": "name 'history' is not defined",
          "traceback": [
            "\u001b[0;31m---------------------------------------------------------------------------\u001b[0m",
            "\u001b[0;31mNameError\u001b[0m                                 Traceback (most recent call last)",
            "\u001b[0;32m<ipython-input-23-9136c721ff08>\u001b[0m in \u001b[0;36m<cell line: 1>\u001b[0;34m()\u001b[0m\n\u001b[0;32m----> 1\u001b[0;31m \u001b[0mepochs\u001b[0m \u001b[0;34m=\u001b[0m \u001b[0mrange\u001b[0m\u001b[0;34m(\u001b[0m\u001b[0;36m1\u001b[0m\u001b[0;34m,\u001b[0m \u001b[0mlen\u001b[0m\u001b[0;34m(\u001b[0m\u001b[0mhistory\u001b[0m\u001b[0;34m.\u001b[0m\u001b[0mhistory\u001b[0m\u001b[0;34m[\u001b[0m\u001b[0;34m\"accuracy\"\u001b[0m\u001b[0;34m]\u001b[0m\u001b[0;34m)\u001b[0m \u001b[0;34m+\u001b[0m \u001b[0;36m1\u001b[0m\u001b[0;34m)\u001b[0m\u001b[0;34m\u001b[0m\u001b[0;34m\u001b[0m\u001b[0m\n\u001b[0m\u001b[1;32m      2\u001b[0m \u001b[0;34m\u001b[0m\u001b[0m\n\u001b[1;32m      3\u001b[0m \u001b[0mplt\u001b[0m\u001b[0;34m.\u001b[0m\u001b[0mfigure\u001b[0m\u001b[0;34m(\u001b[0m\u001b[0mfigsize\u001b[0m\u001b[0;34m=\u001b[0m\u001b[0;34m(\u001b[0m\u001b[0;36m8\u001b[0m\u001b[0;34m,\u001b[0m \u001b[0;36m4\u001b[0m\u001b[0;34m)\u001b[0m\u001b[0;34m)\u001b[0m\u001b[0;34m\u001b[0m\u001b[0;34m\u001b[0m\u001b[0m\n\u001b[1;32m      4\u001b[0m \u001b[0mplt\u001b[0m\u001b[0;34m.\u001b[0m\u001b[0mplot\u001b[0m\u001b[0;34m(\u001b[0m\u001b[0mepochs\u001b[0m\u001b[0;34m,\u001b[0m \u001b[0mhistory\u001b[0m\u001b[0;34m.\u001b[0m\u001b[0mhistory\u001b[0m\u001b[0;34m[\u001b[0m\u001b[0;34m\"accuracy\"\u001b[0m\u001b[0;34m]\u001b[0m\u001b[0;34m,\u001b[0m   \u001b[0mlabel\u001b[0m\u001b[0;34m=\u001b[0m\u001b[0;34m\"Training accuracy\"\u001b[0m\u001b[0;34m)\u001b[0m\u001b[0;34m\u001b[0m\u001b[0;34m\u001b[0m\u001b[0m\n\u001b[1;32m      5\u001b[0m \u001b[0mplt\u001b[0m\u001b[0;34m.\u001b[0m\u001b[0mplot\u001b[0m\u001b[0;34m(\u001b[0m\u001b[0mepochs\u001b[0m\u001b[0;34m,\u001b[0m \u001b[0mhistory\u001b[0m\u001b[0;34m.\u001b[0m\u001b[0mhistory\u001b[0m\u001b[0;34m[\u001b[0m\u001b[0;34m\"val_accuracy\"\u001b[0m\u001b[0;34m]\u001b[0m\u001b[0;34m,\u001b[0m \u001b[0mlabel\u001b[0m\u001b[0;34m=\u001b[0m\u001b[0;34m\"Validation accuracy\"\u001b[0m\u001b[0;34m)\u001b[0m\u001b[0;34m\u001b[0m\u001b[0;34m\u001b[0m\u001b[0m\n",
            "\u001b[0;31mNameError\u001b[0m: name 'history' is not defined"
          ]
        }
      ]
    },
    {
      "cell_type": "code",
      "source": [
        "# model.save(\"basesd_model_new.hdf5\")"
      ],
      "metadata": {
        "id": "dJZ4vW5iMQgq"
      },
      "execution_count": null,
      "outputs": []
    },
    {
      "cell_type": "code",
      "source": [
        "model.save(\"basesd_model_new.h5\")"
      ],
      "metadata": {
        "id": "yNI5pjoYMgCf",
        "colab": {
          "base_uri": "https://localhost:8080/"
        },
        "outputId": "0fe36b4a-c3df-422a-f41a-a04e7a7bb8a6"
      },
      "execution_count": 24,
      "outputs": [
        {
          "output_type": "stream",
          "name": "stderr",
          "text": [
            "/usr/local/lib/python3.10/dist-packages/keras/src/engine/training.py:3103: UserWarning: You are saving your model as an HDF5 file via `model.save()`. This file format is considered legacy. We recommend using instead the native Keras format, e.g. `model.save('my_model.keras')`.\n",
            "  saving_api.save_model(\n"
          ]
        }
      ]
    },
    {
      "cell_type": "code",
      "source": [
        "# model = models.load_model(\"basesd_model_new.h5\")"
      ],
      "metadata": {
        "id": "F5dgRrNSMRWU"
      },
      "execution_count": null,
      "outputs": []
    },
    {
      "cell_type": "code",
      "source": [
        "imege_number = 1170\n",
        "\n",
        "x = np.expand_dims(x_test[imege_number], axis=0)\n",
        "prediction = model.predict(x)\n",
        "prediction = np.argmax(prediction[0])\n",
        "\n",
        "# classes[y_train[imege_number][0]]\n",
        "plt.axis('off')\n",
        "\n",
        "plt.imshow(x_test[imege_number] ,  cmap=plt.cm.binary)\n",
        "\n",
        "print(f\"Клас номер: {prediction}\")\n",
        "print(f\"Клас img : {classes[prediction]}\")"
      ],
      "metadata": {
        "id": "GEKpTOkTMZJQ",
        "colab": {
          "base_uri": "https://localhost:8080/",
          "height": 458
        },
        "outputId": "2d625aa2-da68-44c1-a697-89a102778290"
      },
      "execution_count": 25,
      "outputs": [
        {
          "output_type": "stream",
          "name": "stdout",
          "text": [
            "1/1 [==============================] - 0s 102ms/step\n",
            "Клас номер: 7\n",
            "Клас img : horse(кінь)\n"
          ]
        },
        {
          "output_type": "display_data",
          "data": {
            "text/plain": [
              "<Figure size 640x480 with 1 Axes>"
            ],
            "image/png": "[encoded data removed]"
          },
          "metadata": {}
        }
      ]
    },
    {
      "cell_type": "markdown",
      "source": [],
      "metadata": {
        "id": "wvkrY8-6LeQo"
      }
    }
  ]
}